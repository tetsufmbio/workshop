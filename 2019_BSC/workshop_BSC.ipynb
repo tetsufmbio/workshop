{
  "nbformat": 4,
  "nbformat_minor": 0,
  "metadata": {
    "colab": {
      "name": "workshop_BSC.ipynb",
      "provenance": [],
      "collapsed_sections": []
    },
    "kernelspec": {
      "name": "python3",
      "display_name": "Python 3"
    }
  },
  "cells": [
    {
      "cell_type": "markdown",
      "metadata": {
        "id": "FJrpyEl4sWll",
        "colab_type": "text"
      },
      "source": [
        "## **Workshop Biologia Sistêmica do Câncer**\n",
        "#### Universidade Federal do Rio Grande do Norte (UFRN)\n",
        "#### Instituto Metrópole Digital (IMD)\n",
        "#### Centro Multiusuário de Bioinformática (BioME)\n",
        "\n",
        "\n",
        "---\n",
        "\n",
        "\n",
        "# **Seleção de atributos**\n",
        "\n",
        "**Autor: Prof. Dr. Tetsu Sakamoto (IMD/UFRN)**\n",
        "\n",
        "\n",
        "---\n",
        "\n",
        "\n",
        "Muitas vezes quando lidamos com problemas de classificação utilizando métodos supervisionados de aprendizado de máquina, temos em mãos dados que possuem **muitos atributos** (ou variáveis) para cada amostra. Exemplo disso são os dados de **expressão gênica**, onde para cada amostra é possível obter dados de expressão de centenas ou milhares de genes distintos. Neste caso, cada um dos genes pode servir como um atributo a ser considerado na construção de um modelo de aprendizado de máquina. \n",
        "\n",
        "No entanto, o uso de muitos atributos pode incorrer a algumas desvantagens, como:\n",
        "\n",
        "* A exigência de um tempo de processamento maior na etapa de treinamento do modelo;\n",
        "* Redução da acurácia do modelo devido a presença de ruídos;\n",
        "\n",
        "Por isso, antes de iniciar o treinamento do modelo propriamente dito, é interessante realizar passos de limpeza e de filtragem dos seus dados. A filtragem dos dados pode ser feita de forma a **selecionar** aqueles atributos que sejam importantes na construção do modelo. \n",
        "\n",
        "A **seleção de atributos** nos permite responder outros tipos de questões sobre os nossos dados. Caso estejamos lidando com dados de expressão de pacientes sadios e doentes, podemos determinar quais genes são importantes ou fazerm diferença na precisão e na acurácia de um modelo de aprendizado de máquina.\n",
        "\n",
        "Este material abordará como podemos realizar na prática a **seleção de atributos** de um dado de expressão de câncer utilizando o Python."
      ]
    },
    {
      "cell_type": "markdown",
      "metadata": {
        "id": "8GE9qV-9yP7H",
        "colab_type": "text"
      },
      "source": [
        "## Carregando as bibliotecas necessárias\n"
      ]
    },
    {
      "cell_type": "code",
      "metadata": {
        "id": "usV6okDzRZE4",
        "colab_type": "code",
        "colab": {}
      },
      "source": [
        "import pandas as pd\n",
        "import numpy as np\n"
      ],
      "execution_count": 0,
      "outputs": []
    },
    {
      "cell_type": "markdown",
      "metadata": {
        "id": "TIUL-5ZfyLNC",
        "colab_type": "text"
      },
      "source": [
        "## Sobre os dados\n",
        "\n",
        "Os dados que serão utilizados nesta aula são dados de expressão gênica de linfomas proveniente do artigo de [Shipp et al. (2002)](https://www.nature.com/articles/nm0102-68). Neste trabalho, foi verificado se é possível identificar dois tipos de linfoma (Linfoma difuso de células B grandes - DLBCL; e linfoma folicular - FL) utilizando dados de expressão gênica e métodos de aprendizado de máquina. Para isso, foram obtidos dados de expressão de 6.817 genes de 58 pacientes com DLBCL e 19 com FL.\n",
        "\n",
        "Nas células abaixo, carregaremos os dados de expressão gênica e das anotações de cada paciente. "
      ]
    },
    {
      "cell_type": "code",
      "metadata": {
        "id": "d57i4KxoRwF2",
        "colab_type": "code",
        "colab": {}
      },
      "source": [
        "# Carregar os dados de expressão (Shipp et al., 2002)\n",
        "file = pd.read_csv(\"http://pubs.broadinstitute.org/mpr/projects/Lymphoma/lymphoma_8_lbc_fscc2_rn.res\", # Endereço onde os dados estão hospedados;\n",
        "                   sep=\"\\t\",                                                                           # Indicar que as colunas estão separadas por tabulação;\n",
        "                   skiprows=[1,2])                                                                     # Pular as linhas 1 e 2 (primeira linha = 0);\n",
        "\n",
        "file # visualizar os dados"
      ],
      "execution_count": 0,
      "outputs": []
    },
    {
      "cell_type": "code",
      "metadata": {
        "id": "QUItZqXxgazB",
        "colab_type": "code",
        "colab": {}
      },
      "source": [
        "# Dados de classificação das amostras (variável resposta)\n",
        "cls = pd.read_csv(\"http://pubs.broadinstitute.org/mpr/projects/Lymphoma/lymphoma_8_lbc_fscc2.cls\", sep=\" \", skiprows=[0,1], header=None)\n",
        "cls = cls.transpose()[0]\n",
        "cls"
      ],
      "execution_count": 0,
      "outputs": []
    },
    {
      "cell_type": "markdown",
      "metadata": {
        "id": "pwum6sq3Kolo",
        "colab_type": "text"
      },
      "source": [
        "## Estruturando os dados\n",
        "\n",
        "As células abaixo farão alguns procedimentos que estruturarão os dados para torná-los aplicáveis nas funções que geram os modelos de aprendizagem de máquina. "
      ]
    },
    {
      "cell_type": "code",
      "metadata": {
        "id": "mI0OKl_IZvG5",
        "colab_type": "code",
        "colab": {}
      },
      "source": [
        "## Retirada das colunas Unnamed: X\n",
        "file = file.filter(regex='^[^U]')\n",
        "file"
      ],
      "execution_count": 0,
      "outputs": []
    },
    {
      "cell_type": "code",
      "metadata": {
        "id": "N_8_G1bjZvQ5",
        "colab_type": "code",
        "colab": {}
      },
      "source": [
        "## Extraindo os dados numéricos\n",
        "data = file.loc[:,\"DLBC1\":\"FSCC1\"] # Seleciona as colunas entre DLBC1 e FSCC1\n",
        "data\n",
        "\n"
      ],
      "execution_count": 0,
      "outputs": []
    },
    {
      "cell_type": "code",
      "metadata": {
        "id": "k0N6UTkJLKGJ",
        "colab_type": "code",
        "colab": {}
      },
      "source": [
        "# Transpor os dados para que os atributos fiquem nas colunas e as amostras nas linhas.\n",
        "data = data.transpose()            # Transpõe a tabela\n",
        "data"
      ],
      "execution_count": 0,
      "outputs": []
    },
    {
      "cell_type": "code",
      "metadata": {
        "id": "syAQvXENTRP9",
        "colab_type": "code",
        "colab": {}
      },
      "source": [
        "# adicionando índices a variável resposta\n",
        "cls.index = data.index\n",
        "cls"
      ],
      "execution_count": 0,
      "outputs": []
    },
    {
      "cell_type": "code",
      "metadata": {
        "id": "_SV24x-ZZvYO",
        "colab_type": "code",
        "colab": {}
      },
      "source": [
        "# Pegando o nome/código de cada gene (feature)\n",
        "feature_names = file.Description\n",
        "feature_names"
      ],
      "execution_count": 0,
      "outputs": []
    },
    {
      "cell_type": "markdown",
      "metadata": {
        "id": "aQ4l8TxYLZVt",
        "colab_type": "text"
      },
      "source": [
        "## Gerando um modelo de aprendizagem de máquina\n",
        "\n",
        "Agora que temos os nossos dados estruturados, podemos aplicá-los a um método de aprendizado de máquina supervisionado.\n",
        "\n",
        "Nesta prática, utilizaremos o **SVM** (*Support Vector Machine*) para gerar o classificador e o *cross-validation* para verificar a acurácia do classificador. Para isso, vamos carregar as bibliotecas necessárias e aplicar os nossos dados."
      ]
    },
    {
      "cell_type": "code",
      "metadata": {
        "id": "q1paft3xLaIB",
        "colab_type": "code",
        "colab": {}
      },
      "source": [
        "from sklearn import svm\n",
        "from sklearn.model_selection import cross_val_score\n",
        "\n",
        "clf = svm.SVC(gamma=\"scale\", C=10)\n",
        "scores = cross_val_score(clf, data, cls, cv=5)  \n",
        "print(\"Accuracy: %0.4f (+/- %0.4f)\" % (scores.mean(), scores.std() * 2))"
      ],
      "execution_count": 0,
      "outputs": []
    },
    {
      "cell_type": "markdown",
      "metadata": {
        "id": "2fhUDrGfNFLr",
        "colab_type": "text"
      },
      "source": [
        "Utilizando todos os atributos, nós obtemos uma acurácia de: _ _ _ _ _ _ _ _ _ _ _ _ _\n",
        "\n",
        "O que será que acontece com a acurácia do nosso modelo se retirarmos alguns atributos? Vamos verificar isso nas próximas células."
      ]
    },
    {
      "cell_type": "markdown",
      "metadata": {
        "id": "KVqncCWGExsN",
        "colab_type": "text"
      },
      "source": [
        "## Método de filtro (Filter method)\n",
        "\n",
        "Nesta abordagem, utiliza-se métricas estatísticas para ranquear os atributos para ajudar na sua seleção. O ranqueamento desses atributos normalmente é baseado em uma **análise de correlação** dos dados de um atributo com a variável resposta.\n",
        "\n",
        "Vamos calcular nas próximas células a correlação de cada uma das nossas colunas com a variável resposta. Acompanhe:\n"
      ]
    },
    {
      "cell_type": "code",
      "metadata": {
        "id": "O0YiShnaEiyP",
        "colab_type": "code",
        "colab": {}
      },
      "source": [
        "# Calculando a correlação de cada atributo (genes) com a variável resposta:\n",
        "cor = data.apply(lambda x: x.corr(cls))\n",
        "cor"
      ],
      "execution_count": 0,
      "outputs": []
    },
    {
      "cell_type": "markdown",
      "metadata": {
        "id": "_kb2FViTUEX4",
        "colab_type": "text"
      },
      "source": [
        "Na célula anterior criamos uma variável *cor*, onde cada linha representa um gene e os valores correspondem a sua correlação com a variável resposta. \n",
        "\n",
        "Os valores de correlação variam de -1 a 1. Valores próximo de 1 indicam que as variáveis estão positivamente correlacionadas, enquanto valores próximo de -1, negativamente correlacionadas. Se a correlação é próxima de zero, as variáveis não possuem correlação. Veja a figura abaixo:\n",
        "\n"
      ]
    },
    {
      "cell_type": "markdown",
      "metadata": {
        "id": "E1LQDy5jWSl8",
        "colab_type": "text"
      },
      "source": [
        "![image.png](data:image/png;base64,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)"
      ]
    },
    {
      "cell_type": "markdown",
      "metadata": {
        "id": "qAYEAbJ3WTtg",
        "colab_type": "text"
      },
      "source": [
        "Atributos que tenha uma correlação próxima de zero podem não ser importantes para criar o modelo de aprendizagem de máquina. \n",
        "\n",
        "Vamos tentar filtrar os nossos dados pegando apenas aqueles atributos que tenha uma correlação acima de 0.2 ou abaixo de -0.2."
      ]
    },
    {
      "cell_type": "code",
      "metadata": {
        "id": "1ln8hOwCFucm",
        "colab_type": "code",
        "colab": {}
      },
      "source": [
        "corabs = abs(cor) # coloca os valores de correlação em valores absolutos\n",
        "corabs"
      ],
      "execution_count": 0,
      "outputs": []
    },
    {
      "cell_type": "code",
      "metadata": {
        "id": "e6QmLERNRTdc",
        "colab_type": "code",
        "colab": {}
      },
      "source": [
        "# selecionar os atributos que tenha uma correlação acima de 0.3 ou abaixo de -0.3\n",
        "atrIdx = np.where(corabs >= 0.3)\n",
        "data2 = data.iloc[:,atrIdx[0]]\n",
        "data2\n",
        "\n"
      ],
      "execution_count": 0,
      "outputs": []
    },
    {
      "cell_type": "code",
      "metadata": {
        "id": "T2nqOMLNXkvm",
        "colab_type": "code",
        "colab": {}
      },
      "source": [
        "# Pegar os nomes dos genes que passaram no filtro da correlação\n",
        "feature_names2 = feature_names[corabs >= 0.3]\n",
        "feature_names2"
      ],
      "execution_count": 0,
      "outputs": []
    },
    {
      "cell_type": "markdown",
      "metadata": {
        "id": "grP3ffcSXycN",
        "colab_type": "text"
      },
      "source": [
        "Vamos criar o nosso classificador utilizando os dados filtrados e ver se modificou a sua acurácia."
      ]
    },
    {
      "cell_type": "code",
      "metadata": {
        "id": "K7XRe13NXyD3",
        "colab_type": "code",
        "colab": {}
      },
      "source": [
        "clf = svm.SVC(gamma=\"scale\", C=10)\n",
        "scores = cross_val_score(clf, data2, cls, cv=5)  \n",
        "print(\"Accuracy: %0.4f (+/- %0.4f)\" % (scores.mean(), scores.std() * 2))"
      ],
      "execution_count": 0,
      "outputs": []
    },
    {
      "cell_type": "markdown",
      "metadata": {
        "id": "novQTlQ-aFId",
        "colab_type": "text"
      },
      "source": [
        "## Extra (Heatmaps)\n",
        "\n",
        "Em dados de expressão gênica, é comum realizarmos um heatmap indicando quais genes estão diferencialmente expressos entre amostras de características constrantes. O código a seguir mostra como podemos fazer isso: "
      ]
    },
    {
      "cell_type": "code",
      "metadata": {
        "id": "mNFrLdh7RS8X",
        "colab_type": "code",
        "colab": {}
      },
      "source": [
        "# Importando as bibliotecas necessárias\n",
        "import matplotlib.pyplot as plt\n",
        "import seaborn as sb"
      ],
      "execution_count": 0,
      "outputs": []
    },
    {
      "cell_type": "code",
      "metadata": {
        "id": "5CPX6i26bIA6",
        "colab_type": "code",
        "colab": {}
      },
      "source": [
        "# Selecionando os genes que possuem uma correlação acima de 0.5\n",
        "atrIdx = np.where(cor >= 0.5)\n",
        "data3 = data.iloc[:,atrIdx[0]]\n",
        "data3"
      ],
      "execution_count": 0,
      "outputs": []
    },
    {
      "cell_type": "code",
      "metadata": {
        "id": "KMtJ_lrbbH4b",
        "colab_type": "code",
        "colab": {}
      },
      "source": [
        "\n",
        "# Selecionando os nomes dos genes que possuem a correlação acima de 0.5\n",
        "feature_names3 = feature_names[cor >= 0.5]\n",
        "feature_names3"
      ],
      "execution_count": 0,
      "outputs": []
    },
    {
      "cell_type": "code",
      "metadata": {
        "id": "Syx6Dbh8bHwz",
        "colab_type": "code",
        "colab": {}
      },
      "source": [
        "# Transformando os dados de expressão utilizando o z-score\n",
        "# para tornar os dados comparáveis.\n",
        "data3z = data3.copy()\n",
        "for col in data3.columns:\n",
        "  data3z[col] = (data3[col] - data3[col].mean())/data3[col].std(ddof=0)\n",
        "\n",
        "data3z"
      ],
      "execution_count": 0,
      "outputs": []
    },
    {
      "cell_type": "code",
      "metadata": {
        "id": "ldxE3wyJvmzP",
        "colab_type": "code",
        "colab": {}
      },
      "source": [
        "# Plotando o heatmap desses genes\n",
        "heat_map = sb.heatmap(data3z, cmap=\"RdBu\")\n",
        "plt.show()"
      ],
      "execution_count": 0,
      "outputs": []
    },
    {
      "cell_type": "code",
      "metadata": {
        "id": "_eKSbpGrRS4U",
        "colab_type": "code",
        "colab": {}
      },
      "source": [
        "# Realizando o mesmo procedimento, mas para genes que possuem correlação abaixo de -0.5\n",
        "atrIdx = np.where(cor <= -0.5)\n",
        "data3 = data.iloc[:,atrIdx[0]]\n",
        "feature_names3 = feature_names[cor <= -0.5]\n",
        "\n",
        "data3z = data3.copy()\n",
        "for col in data3.columns:\n",
        "  data3z[col] = (data3[col] - data3[col].mean())/data3[col].std(ddof=0)\n",
        "\n",
        "data3z\n",
        "heat_map = sb.heatmap(data3z, cmap=\"RdBu\")\n",
        "plt.show()\n",
        "\n",
        "feature_names3"
      ],
      "execution_count": 0,
      "outputs": []
    },
    {
      "cell_type": "markdown",
      "metadata": {
        "id": "Z5G1aOV4zBJM",
        "colab_type": "text"
      },
      "source": [
        "## Método Wrapper\n",
        "\n",
        "Neste método, utiliza-se a performance de um método supervisionado de aprendizagem de máquina (como acurácia) para avaliar se um determinado atributo merece ser incluído na análise ou não.\n",
        "\n",
        "Alguns exemplos de métodos que utilizam a abordagem Wrapper seriam:\n",
        "\n",
        "* *Forward Selection*: O procedimento inicia-se com um conjunto vazio (conjunto reduzido) de atributos. O atributo que melhor contribui na construção do modelo é adicionado ao conjunto reduzido. Nas iterações posteriores, o método novamente escolhe aquele atributo que melhor contribui na acurácia do modelo e o adiciona no conjunto reduzido.\n",
        "\n",
        "* *Backward Elimination*: Contrário do forward selection, o procedimento inicia-se com um conjunto com todos os atributos. A cada iteração, o método retira do conjunto atributos que pior contribui na performance do modelo. Um outro nome para este método também é *Recursive Feature elimination*. \n",
        "\n",
        "* *Combinação do forward selection e backward elimination*: Os passos dos métodos forward selection e backward elimination podem ser combinados de forma que, em cada passo, verifica-se tanto a performance do modelo quando adiciona ou remove um atributo do conjunto.\n",
        "\n",
        "\n"
      ]
    },
    {
      "cell_type": "markdown",
      "metadata": {
        "id": "C3vs0sVvdrfN",
        "colab_type": "text"
      },
      "source": [
        "Nesta prática utilizaremos a função RFECV (*recursive feature elimination and cross-validated selection*) em conjunto com a regressão logística para selecionarmos os atributos considerados importantes na análise."
      ]
    },
    {
      "cell_type": "code",
      "metadata": {
        "id": "u4eH_NPLAr72",
        "colab_type": "code",
        "colab": {}
      },
      "source": [
        "# Carregando as bibliotecas necessárias \n",
        "from sklearn.feature_selection import RFECV\n",
        "from sklearn.linear_model import LogisticRegression"
      ],
      "execution_count": 0,
      "outputs": []
    },
    {
      "cell_type": "code",
      "metadata": {
        "id": "Y37gH2YyAs01",
        "colab_type": "code",
        "colab": {}
      },
      "source": [
        "# Configurando o modelo da regressão logística\n",
        "model = LogisticRegression(solver=\"lbfgs\", max_iter=1000)\n",
        "\n",
        "# Configurando a função RFECV\n",
        "rfe = RFECV(model,  # modelo utilizado para avaliar a importância de um atributo após sua remoção\n",
        "            step=3, # número de atributos a ser removido a cada iteração\n",
        "            cv=5)   # número de grupos no cross-validation\n"
      ],
      "execution_count": 0,
      "outputs": []
    },
    {
      "cell_type": "code",
      "metadata": {
        "id": "wXReFgt-As5D",
        "colab_type": "code",
        "colab": {}
      },
      "source": [
        "# Realiza o RFECV\n",
        "fit = rfe.fit(data2, cls)\n",
        "print(\"Num Features: %s\" % (fit.n_features_))\n",
        "print(\"Selected Features: %s\" % (fit.support_))\n",
        "print(\"Feature Ranking: %s\" % (fit.ranking_))"
      ],
      "execution_count": 0,
      "outputs": []
    },
    {
      "cell_type": "markdown",
      "metadata": {
        "id": "UI9HfumOfI9W",
        "colab_type": "text"
      },
      "source": [
        "Neste procedimento foram selecionados _ _ _ _ _ atributos."
      ]
    },
    {
      "cell_type": "markdown",
      "metadata": {
        "id": "Xus_cVsLfO02",
        "colab_type": "text"
      },
      "source": [
        "Vamos verificar a performance do nosso classificador utilizando apenas os atributos selecionados:"
      ]
    },
    {
      "cell_type": "code",
      "metadata": {
        "id": "amI1ApKtZvVO",
        "colab_type": "code",
        "colab": {}
      },
      "source": [
        "# Tabela contendo apenas os atributos selecionados \n",
        "data4 = data2.iloc[:,fit.support_]\n",
        "data4"
      ],
      "execution_count": 0,
      "outputs": []
    },
    {
      "cell_type": "code",
      "metadata": {
        "id": "7p1xcrUb--fD",
        "colab_type": "code",
        "colab": {}
      },
      "source": [
        "# Verificando a performance do classificador\n",
        "clf = svm.SVC(gamma=\"scale\", C=10)\n",
        "scores = cross_val_score(clf, data4, cls, cv=5)  \n",
        "print(\"Accuracy: %0.2f (+/- %0.2f)\" % (scores.mean(), scores.std() * 2))"
      ],
      "execution_count": 0,
      "outputs": []
    },
    {
      "cell_type": "code",
      "metadata": {
        "id": "STKJoLZ2deFp",
        "colab_type": "code",
        "colab": {}
      },
      "source": [
        "# Obtendo os nomes dos genes selecionados\n",
        "feature_names2[fit.support_]"
      ],
      "execution_count": 0,
      "outputs": []
    },
    {
      "cell_type": "markdown",
      "metadata": {
        "id": "yNcjP6xhZLtA",
        "colab_type": "text"
      },
      "source": [
        "## Referência dos dados\n",
        "Shipp et al., <b>Diffuse Large B-Cell Lymphoma Outcome Prediction by Gene Expression Profiling and Supervised Machine Learning </b>, Nature Medicine January 2002 Volume 8 Number 1 pp 68 - 74. Published: 2001.12.31\n",
        "\n",
        "https://scikit-learn.org/stable/modules/feature_selection.html\n",
        "\n",
        "https://machinelearningmastery.com/feature-selection-machine-learning-python/\n",
        "\n",
        "https://www.datacamp.com/community/tutorials/feature-selection-python\n",
        "\n",
        "https://towardsdatascience.com/feature-selection-with-pandas-e3690ad8504b\n",
        "\n"
      ]
    },
    {
      "cell_type": "code",
      "metadata": {
        "id": "4PdD5cVhY6zI",
        "colab_type": "code",
        "colab": {}
      },
      "source": [
        ""
      ],
      "execution_count": 0,
      "outputs": []
    }
  ]
}